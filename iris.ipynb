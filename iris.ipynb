{
 "nbformat": 4,
 "nbformat_minor": 0,
 "metadata": {
  "colab": {
   "provenance": [],
   "authorship_tag": "ABX9TyPJ09/KeDEWg4zK2jKLbvP/"
  },
  "kernelspec": {
   "name": "python3",
   "language": "python",
   "display_name": "Python 3 (ipykernel)"
  },
  "language_info": {
   "name": "python"
  }
 },
 "cells": [
  {
   "cell_type": "code",
   "execution_count": 1,
   "metadata": {
    "id": "hB1bSJbCmyOt",
    "executionInfo": {
     "status": "ok",
     "timestamp": 1682932801462,
     "user_tz": -330,
     "elapsed": 5,
     "user": {
      "displayName": "Iron Man",
      "userId": "13273595829778677054"
     }
    }
   },
   "outputs": [],
   "source": [
    "#Import Required Libraries "
   ]
  },
  {
   "cell_type": "code",
   "source": [
    "import pandas as pd\n",
    "import numpy as np\n",
    "import matplotlib.pyplot as plt\n",
    "import seaborn as sns\n",
    "import warnings \n",
    "warnings.simplefilter(\"ignore\")"
   ],
   "metadata": {
    "id": "EgWWBRiFnJxY",
    "executionInfo": {
     "status": "ok",
     "timestamp": 1682932857558,
     "user_tz": -330,
     "elapsed": 2,
     "user": {
      "displayName": "Iron Man",
      "userId": "13273595829778677054"
     }
    },
    "ExecuteTime": {
     "end_time": "2023-06-02T04:30:26.516982943Z",
     "start_time": "2023-06-02T04:30:26.514223203Z"
    }
   },
   "execution_count": 1,
   "outputs": []
  },
  {
   "cell_type": "markdown",
   "source": [
    "**Import Iris Dataset**"
   ],
   "metadata": {
    "id": "Qf1raHnznaQU"
   }
  },
  {
   "cell_type": "markdown",
   "source": [],
   "metadata": {
    "collapsed": false
   }
  },
  {
   "cell_type": "code",
   "source": [
    "data=pd.read_csv('Iris.csv')"
   ],
   "metadata": {
    "id": "_J-jK9JwnPk1",
    "executionInfo": {
     "status": "ok",
     "timestamp": 1682932909567,
     "user_tz": -330,
     "elapsed": 3,
     "user": {
      "displayName": "Iron Man",
      "userId": "13273595829778677054"
     }
    },
    "ExecuteTime": {
     "end_time": "2023-06-02T04:30:58.534941590Z",
     "start_time": "2023-06-02T04:30:58.494714099Z"
    }
   },
   "execution_count": 3,
   "outputs": []
  },
  {
   "cell_type": "code",
   "source": [
    "data"
   ],
   "metadata": {
    "colab": {
     "base_uri": "https://localhost:8080/",
     "height": 650
    },
    "id": "wSry7PTonj_1",
    "executionInfo": {
     "status": "ok",
     "timestamp": 1682932919496,
     "user_tz": -330,
     "elapsed": 423,
     "user": {
      "displayName": "Iron Man",
      "userId": "13273595829778677054"
     }
    },
    "outputId": "c923fb51-ee7a-4b79-a2e2-0e70ec8b54fb",
    "ExecuteTime": {
     "end_time": "2023-06-02T04:30:59.775612730Z",
     "start_time": "2023-06-02T04:30:59.713583692Z"
    }
   },
   "execution_count": 4,
   "outputs": [
    {
     "data": {
      "text/plain": "      Id  SepalLengthCm  SepalWidthCm  PetalLengthCm  PetalWidthCm  \\\n0      1            5.1           3.5            1.4           0.2   \n1      2            4.9           3.0            1.4           0.2   \n2      3            4.7           3.2            1.3           0.2   \n3      4            4.6           3.1            1.5           0.2   \n4      5            5.0           3.6            1.4           0.2   \n..   ...            ...           ...            ...           ...   \n145  146            6.7           3.0            5.2           2.3   \n146  147            6.3           2.5            5.0           1.9   \n147  148            6.5           3.0            5.2           2.0   \n148  149            6.2           3.4            5.4           2.3   \n149  150            5.9           3.0            5.1           1.8   \n\n            Species  \n0       Iris-setosa  \n1       Iris-setosa  \n2       Iris-setosa  \n3       Iris-setosa  \n4       Iris-setosa  \n..              ...  \n145  Iris-virginica  \n146  Iris-virginica  \n147  Iris-virginica  \n148  Iris-virginica  \n149  Iris-virginica  \n\n[150 rows x 6 columns]",
      "text/html": "<div>\n<style scoped>\n    .dataframe tbody tr th:only-of-type {\n        vertical-align: middle;\n    }\n\n    .dataframe tbody tr th {\n        vertical-align: top;\n    }\n\n    .dataframe thead th {\n        text-align: right;\n    }\n</style>\n<table border=\"1\" class=\"dataframe\">\n  <thead>\n    <tr style=\"text-align: right;\">\n      <th></th>\n      <th>Id</th>\n      <th>SepalLengthCm</th>\n      <th>SepalWidthCm</th>\n      <th>PetalLengthCm</th>\n      <th>PetalWidthCm</th>\n      <th>Species</th>\n    </tr>\n  </thead>\n  <tbody>\n    <tr>\n      <th>0</th>\n      <td>1</td>\n      <td>5.1</td>\n      <td>3.5</td>\n      <td>1.4</td>\n      <td>0.2</td>\n      <td>Iris-setosa</td>\n    </tr>\n    <tr>\n      <th>1</th>\n      <td>2</td>\n      <td>4.9</td>\n      <td>3.0</td>\n      <td>1.4</td>\n      <td>0.2</td>\n      <td>Iris-setosa</td>\n    </tr>\n    <tr>\n      <th>2</th>\n      <td>3</td>\n      <td>4.7</td>\n      <td>3.2</td>\n      <td>1.3</td>\n      <td>0.2</td>\n      <td>Iris-setosa</td>\n    </tr>\n    <tr>\n      <th>3</th>\n      <td>4</td>\n      <td>4.6</td>\n      <td>3.1</td>\n      <td>1.5</td>\n      <td>0.2</td>\n      <td>Iris-setosa</td>\n    </tr>\n    <tr>\n      <th>4</th>\n      <td>5</td>\n      <td>5.0</td>\n      <td>3.6</td>\n      <td>1.4</td>\n      <td>0.2</td>\n      <td>Iris-setosa</td>\n    </tr>\n    <tr>\n      <th>...</th>\n      <td>...</td>\n      <td>...</td>\n      <td>...</td>\n      <td>...</td>\n      <td>...</td>\n      <td>...</td>\n    </tr>\n    <tr>\n      <th>145</th>\n      <td>146</td>\n      <td>6.7</td>\n      <td>3.0</td>\n      <td>5.2</td>\n      <td>2.3</td>\n      <td>Iris-virginica</td>\n    </tr>\n    <tr>\n      <th>146</th>\n      <td>147</td>\n      <td>6.3</td>\n      <td>2.5</td>\n      <td>5.0</td>\n      <td>1.9</td>\n      <td>Iris-virginica</td>\n    </tr>\n    <tr>\n      <th>147</th>\n      <td>148</td>\n      <td>6.5</td>\n      <td>3.0</td>\n      <td>5.2</td>\n      <td>2.0</td>\n      <td>Iris-virginica</td>\n    </tr>\n    <tr>\n      <th>148</th>\n      <td>149</td>\n      <td>6.2</td>\n      <td>3.4</td>\n      <td>5.4</td>\n      <td>2.3</td>\n      <td>Iris-virginica</td>\n    </tr>\n    <tr>\n      <th>149</th>\n      <td>150</td>\n      <td>5.9</td>\n      <td>3.0</td>\n      <td>5.1</td>\n      <td>1.8</td>\n      <td>Iris-virginica</td>\n    </tr>\n  </tbody>\n</table>\n<p>150 rows × 6 columns</p>\n</div>"
     },
     "execution_count": 4,
     "metadata": {},
     "output_type": "execute_result"
    }
   ]
  },
  {
   "cell_type": "markdown",
   "source": [
    "**Check Null Values**"
   ],
   "metadata": {
    "id": "Mr7DnTMLnrvm"
   }
  },
  {
   "cell_type": "code",
   "source": [
    "data.isnull().sum()"
   ],
   "metadata": {
    "colab": {
     "base_uri": "https://localhost:8080/"
    },
    "id": "jju_zcsVnleO",
    "executionInfo": {
     "status": "ok",
     "timestamp": 1682932963688,
     "user_tz": -330,
     "elapsed": 3,
     "user": {
      "displayName": "Iron Man",
      "userId": "13273595829778677054"
     }
    },
    "outputId": "b95d00c2-b7ef-40b1-bd6f-7f681e155a70"
   },
   "execution_count": 7,
   "outputs": [
    {
     "output_type": "execute_result",
     "data": {
      "text/plain": [
       "Id               0\n",
       "SepalLengthCm    0\n",
       "SepalWidthCm     0\n",
       "PetalLengthCm    0\n",
       "PetalWidthCm     0\n",
       "Species          0\n",
       "dtype: int64"
      ]
     },
     "metadata": {},
     "execution_count": 7
    }
   ]
  },
  {
   "cell_type": "code",
   "source": [
    "data.columns"
   ],
   "metadata": {
    "colab": {
     "base_uri": "https://localhost:8080/"
    },
    "id": "20_bF5RInxEj",
    "executionInfo": {
     "status": "ok",
     "timestamp": 1682932991217,
     "user_tz": -330,
     "elapsed": 4,
     "user": {
      "displayName": "Iron Man",
      "userId": "13273595829778677054"
     }
    },
    "outputId": "5cd21d80-574f-45b7-d6f9-d249ccd18e2e",
    "ExecuteTime": {
     "end_time": "2023-06-02T04:31:05.232356276Z",
     "start_time": "2023-06-02T04:31:05.221683687Z"
    }
   },
   "execution_count": 5,
   "outputs": [
    {
     "data": {
      "text/plain": "Index(['Id', 'SepalLengthCm', 'SepalWidthCm', 'PetalLengthCm', 'PetalWidthCm',\n       'Species'],\n      dtype='object')"
     },
     "execution_count": 5,
     "metadata": {},
     "output_type": "execute_result"
    }
   ]
  },
  {
   "cell_type": "code",
   "source": [
    "data.describe()"
   ],
   "metadata": {
    "colab": {
     "base_uri": "https://localhost:8080/",
     "height": 300
    },
    "id": "3LE2y9STn3q_",
    "executionInfo": {
     "status": "ok",
     "timestamp": 1682933009650,
     "user_tz": -330,
     "elapsed": 727,
     "user": {
      "displayName": "Iron Man",
      "userId": "13273595829778677054"
     }
    },
    "outputId": "642ebfe9-3479-449c-fcda-6ac2ca0495d8",
    "ExecuteTime": {
     "end_time": "2023-06-02T04:31:07.184814825Z",
     "start_time": "2023-06-02T04:31:07.100457356Z"
    }
   },
   "execution_count": 6,
   "outputs": [
    {
     "data": {
      "text/plain": "               Id  SepalLengthCm  SepalWidthCm  PetalLengthCm  PetalWidthCm\ncount  150.000000     150.000000    150.000000     150.000000    150.000000\nmean    75.500000       5.843333      3.054000       3.758667      1.198667\nstd     43.445368       0.828066      0.433594       1.764420      0.763161\nmin      1.000000       4.300000      2.000000       1.000000      0.100000\n25%     38.250000       5.100000      2.800000       1.600000      0.300000\n50%     75.500000       5.800000      3.000000       4.350000      1.300000\n75%    112.750000       6.400000      3.300000       5.100000      1.800000\nmax    150.000000       7.900000      4.400000       6.900000      2.500000",
      "text/html": "<div>\n<style scoped>\n    .dataframe tbody tr th:only-of-type {\n        vertical-align: middle;\n    }\n\n    .dataframe tbody tr th {\n        vertical-align: top;\n    }\n\n    .dataframe thead th {\n        text-align: right;\n    }\n</style>\n<table border=\"1\" class=\"dataframe\">\n  <thead>\n    <tr style=\"text-align: right;\">\n      <th></th>\n      <th>Id</th>\n      <th>SepalLengthCm</th>\n      <th>SepalWidthCm</th>\n      <th>PetalLengthCm</th>\n      <th>PetalWidthCm</th>\n    </tr>\n  </thead>\n  <tbody>\n    <tr>\n      <th>count</th>\n      <td>150.000000</td>\n      <td>150.000000</td>\n      <td>150.000000</td>\n      <td>150.000000</td>\n      <td>150.000000</td>\n    </tr>\n    <tr>\n      <th>mean</th>\n      <td>75.500000</td>\n      <td>5.843333</td>\n      <td>3.054000</td>\n      <td>3.758667</td>\n      <td>1.198667</td>\n    </tr>\n    <tr>\n      <th>std</th>\n      <td>43.445368</td>\n      <td>0.828066</td>\n      <td>0.433594</td>\n      <td>1.764420</td>\n      <td>0.763161</td>\n    </tr>\n    <tr>\n      <th>min</th>\n      <td>1.000000</td>\n      <td>4.300000</td>\n      <td>2.000000</td>\n      <td>1.000000</td>\n      <td>0.100000</td>\n    </tr>\n    <tr>\n      <th>25%</th>\n      <td>38.250000</td>\n      <td>5.100000</td>\n      <td>2.800000</td>\n      <td>1.600000</td>\n      <td>0.300000</td>\n    </tr>\n    <tr>\n      <th>50%</th>\n      <td>75.500000</td>\n      <td>5.800000</td>\n      <td>3.000000</td>\n      <td>4.350000</td>\n      <td>1.300000</td>\n    </tr>\n    <tr>\n      <th>75%</th>\n      <td>112.750000</td>\n      <td>6.400000</td>\n      <td>3.300000</td>\n      <td>5.100000</td>\n      <td>1.800000</td>\n    </tr>\n    <tr>\n      <th>max</th>\n      <td>150.000000</td>\n      <td>7.900000</td>\n      <td>4.400000</td>\n      <td>6.900000</td>\n      <td>2.500000</td>\n    </tr>\n  </tbody>\n</table>\n</div>"
     },
     "execution_count": 6,
     "metadata": {},
     "output_type": "execute_result"
    }
   ]
  },
  {
   "cell_type": "code",
   "source": [
    "#Drop unnecessary column\n",
    "data=data.drop(columns=\"Id\")"
   ],
   "metadata": {
    "id": "eioOASdAn7jN",
    "executionInfo": {
     "status": "ok",
     "timestamp": 1682933075595,
     "user_tz": -330,
     "elapsed": 3,
     "user": {
      "displayName": "Iron Man",
      "userId": "13273595829778677054"
     }
    },
    "ExecuteTime": {
     "end_time": "2023-06-02T04:31:14.322855460Z",
     "start_time": "2023-06-02T04:31:14.311765035Z"
    }
   },
   "execution_count": 7,
   "outputs": []
  },
  {
   "cell_type": "markdown",
   "source": [
    "**Assigning the Variables**"
   ],
   "metadata": {
    "id": "Yx1hG2q5oS22"
   }
  },
  {
   "cell_type": "code",
   "source": [
    "x=data.iloc[:,:4]\n",
    "y=data.iloc[:,4]"
   ],
   "metadata": {
    "id": "3-NzWyl6oSRS",
    "executionInfo": {
     "status": "ok",
     "timestamp": 1682933132746,
     "user_tz": -330,
     "elapsed": 417,
     "user": {
      "displayName": "Iron Man",
      "userId": "13273595829778677054"
     }
    },
    "ExecuteTime": {
     "end_time": "2023-06-02T04:31:20.435027499Z",
     "start_time": "2023-06-02T04:31:20.416157045Z"
    }
   },
   "execution_count": 8,
   "outputs": []
  },
  {
   "cell_type": "code",
   "source": [
    "print(x)\n",
    "print(y)"
   ],
   "metadata": {
    "colab": {
     "base_uri": "https://localhost:8080/"
    },
    "id": "ecLABYaUoMZi",
    "executionInfo": {
     "status": "ok",
     "timestamp": 1682933148278,
     "user_tz": -330,
     "elapsed": 4,
     "user": {
      "displayName": "Iron Man",
      "userId": "13273595829778677054"
     }
    },
    "outputId": "f1ca3f98-fd08-4ca4-85b7-ff1593207751",
    "ExecuteTime": {
     "end_time": "2023-06-02T04:31:27.426801303Z",
     "start_time": "2023-06-02T04:31:27.375298282Z"
    }
   },
   "execution_count": 10,
   "outputs": [
    {
     "name": "stdout",
     "output_type": "stream",
     "text": [
      "     SepalLengthCm  SepalWidthCm  PetalLengthCm  PetalWidthCm\n",
      "0              5.1           3.5            1.4           0.2\n",
      "1              4.9           3.0            1.4           0.2\n",
      "2              4.7           3.2            1.3           0.2\n",
      "3              4.6           3.1            1.5           0.2\n",
      "4              5.0           3.6            1.4           0.2\n",
      "..             ...           ...            ...           ...\n",
      "145            6.7           3.0            5.2           2.3\n",
      "146            6.3           2.5            5.0           1.9\n",
      "147            6.5           3.0            5.2           2.0\n",
      "148            6.2           3.4            5.4           2.3\n",
      "149            5.9           3.0            5.1           1.8\n",
      "\n",
      "[150 rows x 4 columns]\n",
      "0         Iris-setosa\n",
      "1         Iris-setosa\n",
      "2         Iris-setosa\n",
      "3         Iris-setosa\n",
      "4         Iris-setosa\n",
      "            ...      \n",
      "145    Iris-virginica\n",
      "146    Iris-virginica\n",
      "147    Iris-virginica\n",
      "148    Iris-virginica\n",
      "149    Iris-virginica\n",
      "Name: Species, Length: 150, dtype: object\n"
     ]
    }
   ]
  },
  {
   "cell_type": "markdown",
   "source": [
    "**Split the dataset**"
   ],
   "metadata": {
    "id": "Zn4Qyzvpoiv4"
   }
  },
  {
   "cell_type": "code",
   "source": [
    "from sklearn.model_selection import train_test_split\n",
    "x_train,x_test,y_train,y_test=train_test_split(x,y,random_state=0)"
   ],
   "metadata": {
    "id": "KDoEubgqoeFg",
    "executionInfo": {
     "status": "ok",
     "timestamp": 1682933190480,
     "user_tz": -330,
     "elapsed": 526,
     "user": {
      "displayName": "Iron Man",
      "userId": "13273595829778677054"
     }
    },
    "ExecuteTime": {
     "end_time": "2023-06-02T04:31:40.383408757Z",
     "start_time": "2023-06-02T04:31:39.888437215Z"
    }
   },
   "execution_count": 11,
   "outputs": []
  },
  {
   "cell_type": "markdown",
   "source": [
    "**Creation of Model**"
   ],
   "metadata": {
    "id": "X4aDj71FosaC"
   }
  },
  {
   "cell_type": "code",
   "source": [
    "from sklearn.linear_model import LogisticRegression\n",
    "iris_model=LogisticRegression()"
   ],
   "metadata": {
    "id": "nG8FMZ3DoojK",
    "executionInfo": {
     "status": "ok",
     "timestamp": 1682933245567,
     "user_tz": -330,
     "elapsed": 3,
     "user": {
      "displayName": "Iron Man",
      "userId": "13273595829778677054"
     }
    },
    "ExecuteTime": {
     "end_time": "2023-06-02T04:31:43.384185766Z",
     "start_time": "2023-06-02T04:31:43.282653994Z"
    }
   },
   "execution_count": 12,
   "outputs": []
  },
  {
   "cell_type": "code",
   "source": [
    "iris_model.fit(x_train,y_train)"
   ],
   "metadata": {
    "colab": {
     "base_uri": "https://localhost:8080/",
     "height": 74
    },
    "id": "Hqo4cgDzo0cM",
    "executionInfo": {
     "status": "ok",
     "timestamp": 1682933262898,
     "user_tz": -330,
     "elapsed": 5,
     "user": {
      "displayName": "Iron Man",
      "userId": "13273595829778677054"
     }
    },
    "outputId": "52848008-77a5-4040-c455-a340e4c6d110",
    "ExecuteTime": {
     "end_time": "2023-06-02T04:31:46.062891318Z",
     "start_time": "2023-06-02T04:31:46.008077750Z"
    }
   },
   "execution_count": 13,
   "outputs": [
    {
     "data": {
      "text/plain": "LogisticRegression()",
      "text/html": "<style>#sk-container-id-1 {color: black;background-color: white;}#sk-container-id-1 pre{padding: 0;}#sk-container-id-1 div.sk-toggleable {background-color: white;}#sk-container-id-1 label.sk-toggleable__label {cursor: pointer;display: block;width: 100%;margin-bottom: 0;padding: 0.3em;box-sizing: border-box;text-align: center;}#sk-container-id-1 label.sk-toggleable__label-arrow:before {content: \"▸\";float: left;margin-right: 0.25em;color: #696969;}#sk-container-id-1 label.sk-toggleable__label-arrow:hover:before {color: black;}#sk-container-id-1 div.sk-estimator:hover label.sk-toggleable__label-arrow:before {color: black;}#sk-container-id-1 div.sk-toggleable__content {max-height: 0;max-width: 0;overflow: hidden;text-align: left;background-color: #f0f8ff;}#sk-container-id-1 div.sk-toggleable__content pre {margin: 0.2em;color: black;border-radius: 0.25em;background-color: #f0f8ff;}#sk-container-id-1 input.sk-toggleable__control:checked~div.sk-toggleable__content {max-height: 200px;max-width: 100%;overflow: auto;}#sk-container-id-1 input.sk-toggleable__control:checked~label.sk-toggleable__label-arrow:before {content: \"▾\";}#sk-container-id-1 div.sk-estimator input.sk-toggleable__control:checked~label.sk-toggleable__label {background-color: #d4ebff;}#sk-container-id-1 div.sk-label input.sk-toggleable__control:checked~label.sk-toggleable__label {background-color: #d4ebff;}#sk-container-id-1 input.sk-hidden--visually {border: 0;clip: rect(1px 1px 1px 1px);clip: rect(1px, 1px, 1px, 1px);height: 1px;margin: -1px;overflow: hidden;padding: 0;position: absolute;width: 1px;}#sk-container-id-1 div.sk-estimator {font-family: monospace;background-color: #f0f8ff;border: 1px dotted black;border-radius: 0.25em;box-sizing: border-box;margin-bottom: 0.5em;}#sk-container-id-1 div.sk-estimator:hover {background-color: #d4ebff;}#sk-container-id-1 div.sk-parallel-item::after {content: \"\";width: 100%;border-bottom: 1px solid gray;flex-grow: 1;}#sk-container-id-1 div.sk-label:hover label.sk-toggleable__label {background-color: #d4ebff;}#sk-container-id-1 div.sk-serial::before {content: \"\";position: absolute;border-left: 1px solid gray;box-sizing: border-box;top: 0;bottom: 0;left: 50%;z-index: 0;}#sk-container-id-1 div.sk-serial {display: flex;flex-direction: column;align-items: center;background-color: white;padding-right: 0.2em;padding-left: 0.2em;position: relative;}#sk-container-id-1 div.sk-item {position: relative;z-index: 1;}#sk-container-id-1 div.sk-parallel {display: flex;align-items: stretch;justify-content: center;background-color: white;position: relative;}#sk-container-id-1 div.sk-item::before, #sk-container-id-1 div.sk-parallel-item::before {content: \"\";position: absolute;border-left: 1px solid gray;box-sizing: border-box;top: 0;bottom: 0;left: 50%;z-index: -1;}#sk-container-id-1 div.sk-parallel-item {display: flex;flex-direction: column;z-index: 1;position: relative;background-color: white;}#sk-container-id-1 div.sk-parallel-item:first-child::after {align-self: flex-end;width: 50%;}#sk-container-id-1 div.sk-parallel-item:last-child::after {align-self: flex-start;width: 50%;}#sk-container-id-1 div.sk-parallel-item:only-child::after {width: 0;}#sk-container-id-1 div.sk-dashed-wrapped {border: 1px dashed gray;margin: 0 0.4em 0.5em 0.4em;box-sizing: border-box;padding-bottom: 0.4em;background-color: white;}#sk-container-id-1 div.sk-label label {font-family: monospace;font-weight: bold;display: inline-block;line-height: 1.2em;}#sk-container-id-1 div.sk-label-container {text-align: center;}#sk-container-id-1 div.sk-container {/* jupyter's `normalize.less` sets `[hidden] { display: none; }` but bootstrap.min.css set `[hidden] { display: none !important; }` so we also need the `!important` here to be able to override the default hidden behavior on the sphinx rendered scikit-learn.org. See: https://github.com/scikit-learn/scikit-learn/issues/21755 */display: inline-block !important;position: relative;}#sk-container-id-1 div.sk-text-repr-fallback {display: none;}</style><div id=\"sk-container-id-1\" class=\"sk-top-container\"><div class=\"sk-text-repr-fallback\"><pre>LogisticRegression()</pre><b>In a Jupyter environment, please rerun this cell to show the HTML representation or trust the notebook. <br />On GitHub, the HTML representation is unable to render, please try loading this page with nbviewer.org.</b></div><div class=\"sk-container\" hidden><div class=\"sk-item\"><div class=\"sk-estimator sk-toggleable\"><input class=\"sk-toggleable__control sk-hidden--visually\" id=\"sk-estimator-id-1\" type=\"checkbox\" checked><label for=\"sk-estimator-id-1\" class=\"sk-toggleable__label sk-toggleable__label-arrow\">LogisticRegression</label><div class=\"sk-toggleable__content\"><pre>LogisticRegression()</pre></div></div></div></div></div>"
     },
     "execution_count": 13,
     "metadata": {},
     "output_type": "execute_result"
    }
   ]
  },
  {
   "cell_type": "markdown",
   "source": [
    "**Result Prediction**"
   ],
   "metadata": {
    "id": "KZ7fmrWpo8sz"
   }
  },
  {
   "cell_type": "code",
   "source": [
    "y_pred=iris_model.predict(x_test)"
   ],
   "metadata": {
    "id": "oy4ICOPGo40V",
    "executionInfo": {
     "status": "ok",
     "timestamp": 1682933305191,
     "user_tz": -330,
     "elapsed": 2,
     "user": {
      "displayName": "Iron Man",
      "userId": "13273595829778677054"
     }
    },
    "ExecuteTime": {
     "end_time": "2023-06-02T04:31:51.739963704Z",
     "start_time": "2023-06-02T04:31:51.719732618Z"
    }
   },
   "execution_count": 14,
   "outputs": []
  },
  {
   "cell_type": "code",
   "source": [
    "y_pred"
   ],
   "metadata": {
    "colab": {
     "base_uri": "https://localhost:8080/"
    },
    "id": "HhUj7kMQpBZG",
    "executionInfo": {
     "status": "ok",
     "timestamp": 1682933307576,
     "user_tz": -330,
     "elapsed": 3,
     "user": {
      "displayName": "Iron Man",
      "userId": "13273595829778677054"
     }
    },
    "outputId": "456484dd-ec24-4ce8-c745-4b26fea6d779",
    "ExecuteTime": {
     "end_time": "2023-06-02T04:31:53.408944422Z",
     "start_time": "2023-06-02T04:31:53.376495504Z"
    }
   },
   "execution_count": 15,
   "outputs": [
    {
     "data": {
      "text/plain": "array(['Iris-virginica', 'Iris-versicolor', 'Iris-setosa',\n       'Iris-virginica', 'Iris-setosa', 'Iris-virginica', 'Iris-setosa',\n       'Iris-versicolor', 'Iris-versicolor', 'Iris-versicolor',\n       'Iris-virginica', 'Iris-versicolor', 'Iris-versicolor',\n       'Iris-versicolor', 'Iris-versicolor', 'Iris-setosa',\n       'Iris-versicolor', 'Iris-versicolor', 'Iris-setosa', 'Iris-setosa',\n       'Iris-virginica', 'Iris-versicolor', 'Iris-setosa', 'Iris-setosa',\n       'Iris-virginica', 'Iris-setosa', 'Iris-setosa', 'Iris-versicolor',\n       'Iris-versicolor', 'Iris-setosa', 'Iris-virginica',\n       'Iris-versicolor', 'Iris-setosa', 'Iris-virginica',\n       'Iris-virginica', 'Iris-versicolor', 'Iris-setosa',\n       'Iris-virginica'], dtype=object)"
     },
     "execution_count": 15,
     "metadata": {},
     "output_type": "execute_result"
    }
   ]
  },
  {
   "cell_type": "markdown",
   "source": [
    "**Accuracy of the Model**"
   ],
   "metadata": {
    "id": "DwmW-MKipOGM"
   }
  },
  {
   "cell_type": "code",
   "source": [
    "from sklearn.metrics import accuracy_score,confusion_matrix\n",
    "confusion_matrix(y_test,y_pred)"
   ],
   "metadata": {
    "colab": {
     "base_uri": "https://localhost:8080/"
    },
    "id": "RCuf3JFGpC41",
    "executionInfo": {
     "status": "ok",
     "timestamp": 1682933366429,
     "user_tz": -330,
     "elapsed": 3,
     "user": {
      "displayName": "Iron Man",
      "userId": "13273595829778677054"
     }
    },
    "outputId": "1120705d-35a1-44dd-a716-b46d3f31bd65",
    "ExecuteTime": {
     "end_time": "2023-06-02T04:31:57.390101090Z",
     "start_time": "2023-06-02T04:31:57.346606473Z"
    }
   },
   "execution_count": 16,
   "outputs": [
    {
     "data": {
      "text/plain": "array([[13,  0,  0],\n       [ 0, 15,  1],\n       [ 0,  0,  9]])"
     },
     "execution_count": 16,
     "metadata": {},
     "output_type": "execute_result"
    }
   ]
  },
  {
   "cell_type": "code",
   "source": [
    "accuracy=accuracy_score(y_test,y_pred)*100\n",
    "print(\"Accuracy  is {:.2f}\".format(accuracy))"
   ],
   "metadata": {
    "colab": {
     "base_uri": "https://localhost:8080/"
    },
    "id": "MsRvlBN5pTGr",
    "executionInfo": {
     "status": "ok",
     "timestamp": 1682933388161,
     "user_tz": -330,
     "elapsed": 2,
     "user": {
      "displayName": "Iron Man",
      "userId": "13273595829778677054"
     }
    },
    "outputId": "5ecec1ea-7310-47ee-a85f-8186210ff7b1",
    "ExecuteTime": {
     "end_time": "2023-06-02T04:31:59.524654221Z",
     "start_time": "2023-06-02T04:31:59.518434979Z"
    }
   },
   "execution_count": 17,
   "outputs": [
    {
     "name": "stdout",
     "output_type": "stream",
     "text": [
      "Accuracy  is 97.37\n"
     ]
    }
   ]
  }
 ]
}
